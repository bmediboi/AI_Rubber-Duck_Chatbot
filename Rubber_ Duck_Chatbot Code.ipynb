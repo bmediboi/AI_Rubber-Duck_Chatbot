{
 "cells": [
  {
   "cell_type": "code",
   "execution_count": 1,
   "id": "634e5317",
   "metadata": {},
   "outputs": [],
   "source": [
    "import difflib\n",
    "import pandas as pd\n",
    "from rake_nltk import Rake\n",
    "import requests\n",
    "from bs4 import BeautifulSoup"
   ]
  },
  {
   "cell_type": "code",
   "execution_count": 2,
   "id": "265961d5",
   "metadata": {},
   "outputs": [],
   "source": [
    "def get_keywords(text):\n",
    "    rake = Rake()\n",
    "    rake.extract_keywords_from_text(text)\n",
    "    return rake.get_ranked_phrases_with_scores()"
   ]
  },
  {
   "cell_type": "code",
   "execution_count": 3,
   "id": "4afa107b",
   "metadata": {},
   "outputs": [
    {
     "data": {
      "text/html": [
       "<div>\n",
       "<style scoped>\n",
       "    .dataframe tbody tr th:only-of-type {\n",
       "        vertical-align: middle;\n",
       "    }\n",
       "\n",
       "    .dataframe tbody tr th {\n",
       "        vertical-align: top;\n",
       "    }\n",
       "\n",
       "    .dataframe thead th {\n",
       "        text-align: right;\n",
       "    }\n",
       "</style>\n",
       "<table border=\"1\" class=\"dataframe\">\n",
       "  <thead>\n",
       "    <tr style=\"text-align: right;\">\n",
       "      <th></th>\n",
       "      <th>title</th>\n",
       "      <th>accepted_answer_id</th>\n",
       "      <th>tags</th>\n",
       "      <th>answer_count</th>\n",
       "      <th>title_keywords</th>\n",
       "    </tr>\n",
       "  </thead>\n",
       "  <tbody>\n",
       "    <tr>\n",
       "      <th>0</th>\n",
       "      <td>How to automate download of weekly export serv...</td>\n",
       "      <td>10182845</td>\n",
       "      <td>salesforce</td>\n",
       "      <td>7</td>\n",
       "      <td>[(16.0, 'weekly export service files'), (4.0, ...</td>\n",
       "    </tr>\n",
       "    <tr>\n",
       "      <th>1</th>\n",
       "      <td>java local timeformat without year</td>\n",
       "      <td>9720812</td>\n",
       "      <td>java|localization|date-format</td>\n",
       "      <td>8</td>\n",
       "      <td>[(25.0, 'java local timeformat without year')]</td>\n",
       "    </tr>\n",
       "    <tr>\n",
       "      <th>2</th>\n",
       "      <td>How do you enforce foreign key constraints in ...</td>\n",
       "      <td>9835781</td>\n",
       "      <td>java|sqlite|jdbc|foreign-keys</td>\n",
       "      <td>8</td>\n",
       "      <td>[(16.0, 'enforce foreign key constraints'), (1...</td>\n",
       "    </tr>\n",
       "  </tbody>\n",
       "</table>\n",
       "</div>"
      ],
      "text/plain": [
       "                                               title  accepted_answer_id  \\\n",
       "0  How to automate download of weekly export serv...            10182845   \n",
       "1                 java local timeformat without year             9720812   \n",
       "2  How do you enforce foreign key constraints in ...             9835781   \n",
       "\n",
       "                            tags  answer_count  \\\n",
       "0                     salesforce             7   \n",
       "1  java|localization|date-format             8   \n",
       "2  java|sqlite|jdbc|foreign-keys             8   \n",
       "\n",
       "                                      title_keywords  \n",
       "0  [(16.0, 'weekly export service files'), (4.0, ...  \n",
       "1     [(25.0, 'java local timeformat without year')]  \n",
       "2  [(16.0, 'enforce foreign key constraints'), (1...  "
      ]
     },
     "execution_count": 3,
     "metadata": {},
     "output_type": "execute_result"
    }
   ],
   "source": [
    "#Create a DataFrame from the source .csv file\n",
    "df = pd.read_csv('data/sodata.csv')\n",
    "df.head(3)"
   ]
  },
  {
   "cell_type": "code",
   "execution_count": 4,
   "id": "5ca87f9c",
   "metadata": {},
   "outputs": [],
   "source": [
    "#Function to get the datasource.\n",
    "#We use the DataFrame defined above to avoid repeated CSV to DataFrame conversions.\n",
    "def get_datasource():\n",
    "    datasource = df\n",
    "    \n",
    "    return datasource"
   ]
  },
  {
   "cell_type": "code",
   "execution_count": 5,
   "id": "b49eec25",
   "metadata": {},
   "outputs": [],
   "source": [
    "# Define a function to match a user input to a question in the dataset\n",
    "def match_question(user_input, data):\n",
    "    keywords = get_keywords(user_input)\n",
    "    keywords = [x[1] for x in keywords][:3]\n",
    "\n",
    "    best_match = \"\"\n",
    "    best_score = 0\n",
    "\n",
    "    #Filter the dataframe using key words\n",
    "    df_titles = data[data[\"title\"].str.contains(\"|\".join(keywords))]\n",
    "    \n",
    "    #Loop through the list of filtered records\n",
    "    for index, row in df_titles.iterrows():\n",
    "        title = row['title']\n",
    "        \n",
    "        #Use difflib to find the best match between the use input and the titles of the questions in our Dataset.\n",
    "        score = difflib.SequenceMatcher(None, title.lower(), user_input.lower()).ratio()\n",
    "        \n",
    "        #Loop through the keywords from user input and score each word.\n",
    "        #Pick the record that has the highest score\n",
    "        for keyword in keywords:\n",
    "            if keyword in title.lower():\n",
    "                score += 0.1\n",
    "            if score > best_score:\n",
    "                best_match = row\n",
    "                best_score = score\n",
    "        \n",
    "    #Return the best matched record \n",
    "    return best_match"
   ]
  },
  {
   "cell_type": "code",
   "execution_count": 6,
   "id": "e3d47f01",
   "metadata": {},
   "outputs": [],
   "source": [
    "# Define a function to retrieve the answer text for a question\n",
    "#Retrieve the answer text from Stack Overflow website using the accepted_answer_id \n",
    "def get_answer_text(query):\n",
    "    \n",
    "    #url = 'https://stackoverflow.com/questions/62725561/cannot-connect-to-database-server-mysql'\n",
    "    url = f'https://stackoverflow.com/a/{query[\"accepted_answer_id\"]}'\n",
    "    # Send a GET request to the URL\n",
    "    response = requests.get(url)\n",
    "\n",
    "    # Parse the HTML content using BeautifulSoup\n",
    "    soup = BeautifulSoup(response.content, \"html.parser\")\n",
    "\n",
    "    # Find all the answer posts\n",
    "    post_body = soup.find('div', class_='s-prose js-post-body')\n",
    "    \n",
    "    #question = post_body.find_all('p')[:2]\n",
    "    question = post_body.find_all('p')\n",
    "\n",
    "    if len(question) >= 2:\n",
    "        print(\"Is this question similar to what you are looking for?:\\n\")\n",
    "        print(question[0].text.strip(),\"\\n\")\n",
    "\n",
    "    answer_body = soup.find('div', class_='answer js-answer accepted-answer js-accepted-answer')\n",
    "\n",
    "    if answer_body is None:\n",
    "        print(\"Sorry I could not find matching responses to your question, provide more details to your question.\\\n",
    "        This can include errors that you are facing. Else key in 'quit' or 'exit' to close me.\\n \")\n",
    "    else:\n",
    "\n",
    "        answers = answer_body.find_all('p')\n",
    "        if len(answers) != 0:\n",
    "            print(\"Here are some answers related to this question: \\n\")\n",
    "            for i,answer in enumerate(answers):\n",
    "                #print(\"Answer : \",i+1, \"\\n\",answer.text,'\\n')\n",
    "                print(answer.text,'\\n')\n",
    "\n",
    "        print(\"\\nIf you are not satisfied with this answer, \\\n",
    "        please provide more details to your question. This can include errors that you are facing.\\\n",
    "        Else key in 'quit' or 'exit' to close me.\\n\")"
   ]
  },
  {
   "cell_type": "code",
   "execution_count": null,
   "id": "94ae4527",
   "metadata": {},
   "outputs": [],
   "source": []
  },
  {
   "cell_type": "code",
   "execution_count": 7,
   "id": "9933c47c",
   "metadata": {},
   "outputs": [],
   "source": [
    "# Define the chatbot function\n",
    "def chatbot():\n",
    "    print('Welcome to team CALIBAN AI chatbot! How can I help you?\\n')\n",
    "    while True:\n",
    "        user_input = input('> ').strip()\n",
    "        \n",
    "        if user_input.lower() in ['quit', 'exit']:\n",
    "            print('Goodbye!')\n",
    "            break\n",
    "        query = match_question(user_input, get_datasource())\n",
    "        \n",
    "        if query is None:\n",
    "            print('Sorry, I could not find a relevant answer to your question. Please rephrase your \\\n",
    "            question and include specific details e.g errors or key words. \\n')\n",
    "        elif len(query) ==0:\n",
    "            print('Sorry, I could not find a relevant answer to your question. Please rephrase your \\\n",
    "            question and include specific details e.g errors or key words. \\n')\n",
    "        else:\n",
    "            get_answer_text(query)            "
   ]
  },
  {
   "cell_type": "code",
   "execution_count": 8,
   "id": "87b34891",
   "metadata": {},
   "outputs": [
    {
     "name": "stdout",
     "output_type": "stream",
     "text": [
      "Welcome to team CALIBAN AI chatbot! How can I help you?\n",
      "\n",
      "> Error establishing a database connection\n",
      "Is this question similar to what you are looking for?:\n",
      "\n",
      "I have a wordpress site on a VPS running Debian 7 that was working fine when I last visited it and I've made no changes since, but now when I visit the site it says: Error establishing a database connection. It also gives the same error in the admin portal. \n",
      "\n",
      "Here are some answers related to this question: \n",
      "\n",
      "Okay, after troubleshooting a while, it turned out that the entire file system is read-only. I tried making new files and in each case it says it can't cause \"Read-only filesystem\" \n",
      "\n",
      "It seems to be a bad image or some sort of change my VPS provider made. So I'll be contacting them. \n",
      "\n",
      "\n",
      "If you are not satisfied with this answer,         please provide more details to your question. This can include errors that you are facing.        Else key in 'quit' or 'exit' to close me.\n",
      "\n",
      "> quit\n",
      "Goodbye!\n"
     ]
    }
   ],
   "source": [
    "#Test the chatbot.\n",
    "#This will prompt you to key in your question.\n",
    "#To exit the program, use quit or exit key words.\n",
    "chatbot()"
   ]
  }
 ],
 "metadata": {
  "kernelspec": {
   "display_name": "Python 3 (ipykernel)",
   "language": "python",
   "name": "python3"
  },
  "language_info": {
   "codemirror_mode": {
    "name": "ipython",
    "version": 3
   },
   "file_extension": ".py",
   "mimetype": "text/x-python",
   "name": "python",
   "nbconvert_exporter": "python",
   "pygments_lexer": "ipython3",
   "version": "3.10.8"
  }
 },
 "nbformat": 4,
 "nbformat_minor": 5
}
